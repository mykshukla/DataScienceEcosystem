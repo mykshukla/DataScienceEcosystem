{
 "cells": [
  {
   "cell_type": "markdown",
   "id": "e467a424-14c2-4eef-9b40-74a9fca40cb8",
   "metadata": {},
   "source": [
    "Data Science Tools and Ecosystem"
   ]
  },
  {
   "cell_type": "markdown",
   "id": "2eb1d6b9-3a9a-4012-99c9-5defbd7ecda7",
   "metadata": {},
   "source": [
    "## Introduction\n",
    "\n",
    "In this notebook, we will explore various tools and components used in the field of Data Science.  \n",
    "Data Science is a multidisciplinary field that uses scientific methods, processes, algorithms, and systems to extract knowledge and insights from structured and unstructured data.  \n",
    "We will cover popular tools, libraries, and platforms that are essential for performing data analysis, machine learning, and data visualization.\n"
   ]
  },
  {
   "cell_type": "markdown",
   "id": "9366c5ec-b600-4527-be43-c6b0deb995c8",
   "metadata": {},
   "source": [
    "Some of the popular languages that Data Scientists use are:\n",
    "\n",
    "1. Python  \n",
    "2. R  \n",
    "3. SQL  \n",
    "4. Java  "
   ]
  },
  {
   "cell_type": "markdown",
   "id": "9a996441-0e65-413c-bd01-c29176113822",
   "metadata": {},
   "source": [
    "Some of the commonly used libraries used by Data Scientists include:\n",
    "\n",
    "1. Pandas  \n",
    "2. NumPy  \n",
    "3. Matplotlib  \n",
    "4. Scikit-learn  "
   ]
  },
  {
   "cell_type": "markdown",
   "id": "9b205219-29fc-4734-a054-e2fa77d1bc9e",
   "metadata": {},
   "source": [
    "| Data Science Tools        |\n",
    "|---------------------------|\n",
    "| Jupyter Notebook          |\n",
    "| RStudio                   |\n",
    "| Apache Zeppelin           |\n"
   ]
  },
  {
   "cell_type": "markdown",
   "id": "c40a7676-6b9d-4c25-8b34-57b1e3598057",
   "metadata": {},
   "source": [
    "### Below are a few examples of evaluating arithmetic expressions in Python.\n"
   ]
  },
  {
   "cell_type": "code",
   "execution_count": 1,
   "id": "8fcbb3be-c08f-4e68-bba4-76ba322b7b5f",
   "metadata": {},
   "outputs": [
    {
     "data": {
      "text/plain": [
       "17"
      ]
     },
     "execution_count": 1,
     "metadata": {},
     "output_type": "execute_result"
    }
   ],
   "source": [
    "(3 * 4) + 5"
   ]
  },
  {
   "cell_type": "code",
   "execution_count": 2,
   "id": "5d25daeb-48b9-41a0-849c-5d2713b57fa5",
   "metadata": {},
   "outputs": [
    {
     "data": {
      "text/plain": [
       "3.3333333333333335"
      ]
     },
     "execution_count": 2,
     "metadata": {},
     "output_type": "execute_result"
    }
   ],
   "source": [
    "# This will convert 200 minutes to hours by dividing by 60\n",
    "200 / 60"
   ]
  },
  {
   "cell_type": "markdown",
   "id": "1b184dc6-e1c9-4535-9885-e986cd926484",
   "metadata": {},
   "source": [
    "**Objectives:**\n",
    "\n",
    "- List popular languages for Data Science  \n",
    "- Identify commonly used libraries in Data Science  \n",
    "- Create tables using markdown  \n",
    "- Perform arithmetic operations using Python  \n",
    "- Convert units (e.g., minutes to hours) using Python code"
   ]
  },
  {
   "cell_type": "markdown",
   "id": "bccdb50a-87e0-4a3d-af4b-880f9aa85dbf",
   "metadata": {},
   "source": [
    "## Author\n",
    "\n",
    "Mayank Shukla"
   ]
  },
  {
   "cell_type": "code",
   "execution_count": null,
   "id": "5bf5d497-50f2-427d-979a-67472edb6708",
   "metadata": {},
   "outputs": [],
   "source": []
  }
 ],
 "metadata": {
  "kernelspec": {
   "display_name": "Python 3 (ipykernel)",
   "language": "python",
   "name": "python3"
  },
  "language_info": {
   "codemirror_mode": {
    "name": "ipython",
    "version": 3
   },
   "file_extension": ".py",
   "mimetype": "text/x-python",
   "name": "python",
   "nbconvert_exporter": "python",
   "pygments_lexer": "ipython3",
   "version": "3.12.8"
  }
 },
 "nbformat": 4,
 "nbformat_minor": 5
}
